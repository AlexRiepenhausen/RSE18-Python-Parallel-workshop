{
 "cells": [
  {
   "cell_type": "markdown",
   "metadata": {},
   "source": [
    "# The Hitchhiker's Guide to Parallelism with Python\n",
    "## Workshop Introduction"
   ]
  },
  {
   "cell_type": "markdown",
   "metadata": {},
   "source": [
    "Hello! Welcome to the _Hitchhiker's Guide to Parallelism with Python_. This tutorial/workshop is designed to give an overview of _some_ of the many options for doing parallel programming with Python. What do we mean by parallel programming? We are taking a very broad view of the definition of parallelism here, and using it to mean any programmatic means of doing computations side-by-side at the same time. We include both thread-based and process-based parallelism here. We're not going to spend ages discussing abstract definitions of parallelism or concurrency, but instead take a practical, hands-on approach to experimenting with different Python modules that allow us to exploit the multi-core, multi-threaded, multi-CPU world that we live in. \n",
    "\n",
    "This workshop covers a few select topics in the world of Python parallel programming: It can't possibly cover them all in a short tutorial, but I hope it will show you that Python programming is not restricted to single-threaded, serial applications, and that there a many approaches to parallel programming with Python. \n",
    "\n",
    "## What do we cover in this workshop?\n",
    "\n",
    "The workshop is made up of four 'mini-tutorials', each one about 15-20 minutes long. They each cover a differnt Python library that supports parallel programming in some way. Theese four topics are:\n",
    "\n",
    "Part 1: Multiprocessing\n",
    "Part 2: Numba\n",
    "Part 3: mpi4py\n",
    "Part 4: Cython and OpenMP\n",
    "\n",
    "## Prologue: What should I know about parallelism in Python?\n",
    "\n",
    "## Following the workshop\n",
    "\n",
    "Each mini-tutorial is presented as a Jupyter notebook. If you are familiar with Jupyter notebooks, I recommend using a fresh one for each tutorial, and typing up your own notes or observations alongside the code examples. If you have not used a jupyter notebook before, they are fairly easy to get started with, just fire one up from a terminal using:\n",
    "\n",
    "```\n",
    "jupyter notebook\n",
    "```\n",
    "\n",
    "And open a new Python 3 notebook. The documentation for using notebooks is here: https://jupyter-notebook.readthedocs.io/en/stable/notebook.html\n",
    "\n",
    "Equally as good to use for these tutorials - an IPython console can be used - whichever you prefer. You should be able to start an IPython console with:\n",
    "\n",
    "```\n",
    "ipython\n",
    "```\n",
    "\n",
    "Check that it shows the correct version of Python after it starts up (Python 3).\n",
    "\n",
    "Finally, you may use an editor and run the scripts/programs manually from the console. However, in some of the tutorials, this will result in extra steps being taken as they rely on some of the interactive features of IPython/jupyter notebooks. We will do our best to help support which method you choose to work through the workshop materials.\n",
    "\n",
    "### Getting the most from the workshop\n",
    "\n",
    "I wanted the focus of this workshop to be experimentation and exploration - not a formal tutorial with set exercises and strict time limits (Though obviously we are limited to the wall-clock time of the workshop schedule. \n",
    "\n",
    "You are strongly encouraged to play around at writing your own code and try breaking the examples once you have gone through them the first time. At the end of most of the tutorials, there will be links to further examples and documentation to support this. **Please feel free to experiment!**\n",
    "\n",
    "It seems like there is always another Python parallel programming library that I haven't heard of before, so please feel free to add suggestions in the discussion sesssion at the end (10-15 mins). I will try to collate these contributions into a webpage that I will provide a link to after the workshop is over, which hopefully will become a handy reference for parallel programming in Python.\n",
    "\n",
    "\n",
    "\n",
    "\n",
    "\n"
   ]
  }
 ],
 "metadata": {
  "kernelspec": {
   "display_name": "Python 3",
   "language": "python",
   "name": "python3"
  },
  "language_info": {
   "codemirror_mode": {
    "name": "ipython",
    "version": 3
   },
   "file_extension": ".py",
   "mimetype": "text/x-python",
   "name": "python",
   "nbconvert_exporter": "python",
   "pygments_lexer": "ipython3",
   "version": "3.7.0"
  }
 },
 "nbformat": 4,
 "nbformat_minor": 2
}
