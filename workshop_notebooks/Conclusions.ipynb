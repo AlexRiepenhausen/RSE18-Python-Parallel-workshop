{
 "cells": [
  {
   "cell_type": "markdown",
   "metadata": {},
   "source": [
    "# Epilogue, Discussion and Conclusions\n",
    "\n",
    "Space here to write up notes from the discussion session at the end"
   ]
  },
  {
   "cell_type": "markdown",
   "metadata": {},
   "source": [
    "## Useful resources for parallel Python programming\n",
    "\n",
    "https://wiki.python.org/moin/ParallelProcessing"
   ]
  },
  {
   "cell_type": "markdown",
   "metadata": {},
   "source": [
    "## Multiprocessing \n",
    "\n",
    "### Using windows\n",
    "\n",
    "Spawn instead of fork\n",
    "\n",
    "### Issues to consider next time..\n",
    "\n",
    "Windows handling of processes expense \n",
    "\n",
    "Windows running multiprocessing code in"
   ]
  }
 ],
 "metadata": {
  "kernelspec": {
   "display_name": "Python 3",
   "language": "python",
   "name": "python3"
  },
  "language_info": {
   "codemirror_mode": {
    "name": "ipython",
    "version": 3
   },
   "file_extension": ".py",
   "mimetype": "text/x-python",
   "name": "python",
   "nbconvert_exporter": "python",
   "pygments_lexer": "ipython3",
   "version": "3.6.6"
  }
 },
 "nbformat": 4,
 "nbformat_minor": 2
}
