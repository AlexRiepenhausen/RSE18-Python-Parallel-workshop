{
 "cells": [
  {
   "cell_type": "markdown",
   "metadata": {},
   "source": [
    "# Epilogue, Discussion and Conclusions\n",
    "\n",
    "Space here to write up notes from the discussion session at the end"
   ]
  },
  {
   "cell_type": "markdown",
   "metadata": {},
   "source": [
    "## Useful resources for parallel Python programming\n",
    "\n",
    "https://wiki.python.org/moin/ParallelProcessing"
   ]
  },
  {
   "cell_type": "markdown",
   "metadata": {},
   "source": [
    "## Multiprocessing \n",
    "\n",
    "### Using windows\n",
    "\n",
    "Spawn instead of fork?\n",
    "\n",
    "### Issues to consider next time..\n",
    "\n",
    "Windows handling of processes expense \n",
    "\n",
    "Windows running multiprocessing code in jupyter/ipython\n",
    "\n",
    "Run inside if __name__==\"__main__\" block in scriptlet.\n",
    "\n",
    "(See multiprocessing docs for windows environments.\n",
    "\n",
    "### MPI on windows \n",
    "\n",
    "Tricky to set up.(even if mpi4py can be imported - requires compiler that provide mpirun\n",
    "\n",
    "## RSE Workshop notes\n",
    "\n",
    "Joblib - https://pypi.org/project/joblib/\n",
    "\n",
    "FENICS - https://fenicsproject.org/\n",
    "\n",
    "Dask - http://dask.pydata.org/en/latest/\n",
    "\n",
    "### Exisiting parallel C/Fortran code?\n",
    "\n",
    "Cython lets you interface with existing C-code (which could contain OpenMP/MPI etc)\n",
    "(No need to re-write it in 'Cython')\n",
    "\n",
    "Also  ctypes, CFFI etc.\n",
    "\n",
    "F2PY - similar as above but for Fortran code (Python bindings/interface for Fortran code)\n",
    "\n",
    "http://www.f2py.com/\n",
    "\n",
    "Other Fortran bindings:\n",
    "\n",
    "F2X - https://github.com/DLR-SC/F2x\n",
    "\n",
    "F90WRAP - https://github.com/jameskermode/f90wrap\n",
    "\n",
    "Pyccel - https://github.com/pyccel/pyccel\n"
   ]
  },
  {
   "cell_type": "code",
   "execution_count": null,
   "metadata": {},
   "outputs": [],
   "source": []
  }
 ],
 "metadata": {
  "kernelspec": {
   "display_name": "Python 3",
   "language": "python",
   "name": "python3"
  },
  "language_info": {
   "codemirror_mode": {
    "name": "ipython",
    "version": 3
   },
   "file_extension": ".py",
   "mimetype": "text/x-python",
   "name": "python",
   "nbconvert_exporter": "python",
   "pygments_lexer": "ipython3",
   "version": "3.6.6"
  }
 },
 "nbformat": 4,
 "nbformat_minor": 2
}
